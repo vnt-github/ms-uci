{
 "cells": [
  {
   "cell_type": "code",
   "execution_count": 6,
   "metadata": {},
   "outputs": [
    {
     "name": "stdout",
     "output_type": "stream",
     "text": [
      "11 3628800 39916800\n"
     ]
    }
   ],
   "source": [
    "from math import factorial\n",
    "for i in range(16):\n",
    "    if factorial(i) > 1000_000_0:\n",
    "        print(i, factorial(i-1), factorial(i))\n",
    "        break"
   ]
  },
  {
   "cell_type": "code",
   "execution_count": 12,
   "metadata": {},
   "outputs": [
    {
     "name": "stdout",
     "output_type": "stream",
     "text": [
      "<gurobi.tuplelist (1 tuples, 2 values each):\n",
      " ( Carlos , Tester )\n",
      ">\n",
      "{('Carlos', 'Tester'): <gurobi.Var *Awaiting Model Update*>}\n",
      "{'Tester': <gurobi.Constr *Awaiting Model Update*>, 'JavaDeveloper': <gurobi.Constr *Awaiting Model Update*>, 'Architect': <gurobi.Constr *Awaiting Model Update*>}\n"
     ]
    }
   ],
   "source": [
    "import gurobipy\n",
    "R = ['Carlos', 'Joe', 'Monika']\n",
    "J = ['Tester', 'JavaDeveloper', 'Architect']\n",
    "\n",
    "combinations, ms = gurobipy.multidict({\n",
    "    ('Carlos', 'Tester'): 53\n",
    "})\n",
    "print(combinations)\n",
    "\n",
    "m = gurobipy.Model('RAP')\n",
    "\n",
    "x = m.addVars(combinations, name='assign')\n",
    "print(x)\n",
    "\n",
    "jobs = m.addConstrs((x.sum('*', j) == 1 for j in J), 'job')\n",
    "print(jobs)"
   ]
  },
  {
   "cell_type": "code",
   "execution_count": 18,
   "metadata": {},
   "outputs": [
    {
     "name": "stdout",
     "output_type": "stream",
     "text": [
      "(1,)\n",
      "(2,)\n",
      "(3,)\n",
      "(4,)\n",
      "(5,)\n",
      "(1, 1)\n",
      "(1, 2)\n",
      "(1, 3)\n",
      "(1, 4)\n",
      "(2, 2)\n",
      "(2, 3)\n",
      "(1, 1, 1)\n",
      "(1, 1, 2)\n",
      "(1, 1, 3)\n",
      "(1, 2, 2)\n",
      "(1, 1, 1, 1)\n",
      "(1, 1, 1, 2)\n",
      "(1, 1, 1, 1, 1)\n"
     ]
    }
   ],
   "source": [
    "from itertools import combinations_with_replacement\n",
    "for no_demands in range(1, 6):\n",
    "    for each in combinations_with_replacement([1,2,3,4,5], no_demands):\n",
    "        if sum(each) <= 5:\n",
    "            print(each)"
   ]
  },
  {
   "cell_type": "markdown",
   "metadata": {},
   "source": [
    "- this is the best markdown ever."
   ]
  }
 ],
 "metadata": {
  "interpreter": {
   "hash": "31f2aee4e71d21fbe5cf8b01ff0e069b9275f58929596ceb00d14d90e3e16cd6"
  },
  "kernelspec": {
   "display_name": "Python 3.6.9 64-bit",
   "language": "python",
   "name": "python3"
  },
  "language_info": {
   "codemirror_mode": {
    "name": "ipython",
    "version": 3
   },
   "file_extension": ".py",
   "mimetype": "text/x-python",
   "name": "python",
   "nbconvert_exporter": "python",
   "pygments_lexer": "ipython3",
   "version": "3.8.0"
  },
  "orig_nbformat": 4
 },
 "nbformat": 4,
 "nbformat_minor": 2
}
